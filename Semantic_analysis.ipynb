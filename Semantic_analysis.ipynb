{
 "cells": [
  {
   "cell_type": "code",
   "execution_count": 1,
   "metadata": {},
   "outputs": [],
   "source": [
    "import pandas as pd \n",
    "import numpy as np\n",
    "from scipy.spatial.distance import cosine\n",
    "import string\n",
    "import re"
   ]
  },
  {
   "cell_type": "code",
   "execution_count": 2,
   "metadata": {},
   "outputs": [
    {
     "name": "stderr",
     "output_type": "stream",
     "text": [
      "c:\\Users\\mypc\\anaconda3\\envs\\SymanticAnalysis\\Lib\\site-packages\\sentence_transformers\\cross_encoder\\CrossEncoder.py:11: TqdmWarning: IProgress not found. Please update jupyter and ipywidgets. See https://ipywidgets.readthedocs.io/en/stable/user_install.html\n",
      "  from tqdm.autonotebook import tqdm, trange\n",
      "c:\\Users\\mypc\\anaconda3\\envs\\SymanticAnalysis\\Lib\\site-packages\\torchvision\\io\\image.py:13: UserWarning: Failed to load image Python extension: '[WinError 127] The specified procedure could not be found'If you don't plan on using image functionality from `torchvision.io`, you can ignore this warning. Otherwise, there might be something wrong with your environment. Did you have `libjpeg` or `libpng` installed before building `torchvision` from source?\n",
      "  warn(\n"
     ]
    }
   ],
   "source": [
    "from sentence_transformers import SentenceTransformer\n",
    "from sentence_transformers.models import Transformer, Pooling"
   ]
  },
  {
   "cell_type": "code",
   "execution_count": 3,
   "metadata": {},
   "outputs": [
    {
     "name": "stderr",
     "output_type": "stream",
     "text": [
      "c:\\Users\\mypc\\anaconda3\\envs\\SymanticAnalysis\\Lib\\site-packages\\huggingface_hub\\file_download.py:157: UserWarning: `huggingface_hub` cache-system uses symlinks by default to efficiently store duplicated files but your machine does not support them in C:\\Users\\mypc\\.cache\\huggingface\\hub\\models--w601sxs--b1ade-embed. Caching files will still work but in a degraded version that might require more space on your disk. This warning can be disabled by setting the `HF_HUB_DISABLE_SYMLINKS_WARNING` environment variable. For more details, see https://huggingface.co/docs/huggingface_hub/how-to-cache#limitations.\n",
      "To support symlinks on Windows, you either need to activate Developer Mode or to run Python as an administrator. In order to see activate developer mode, see this article: https://docs.microsoft.com/en-us/windows/apps/get-started/enable-your-device-for-development\n",
      "  warnings.warn(message)\n"
     ]
    }
   ],
   "source": [
    "transformer = Transformer(\"w601sxs/b1ade-embed\")\n",
    "pooling = Pooling(transformer.get_word_embedding_dimension(), pooling_mode=\"mean\") \n",
    "model = SentenceTransformer(modules=[transformer, pooling])"
   ]
  },
  {
   "cell_type": "code",
   "execution_count": 24,
   "metadata": {},
   "outputs": [],
   "source": [
    "df = pd.read_csv(\"D:\\AIO\\STT_Model_Evaluation\\Transcription Results\\parakeet-ctc-1.1b_Results.csv\")"
   ]
  },
  {
   "cell_type": "code",
   "execution_count": 25,
   "metadata": {},
   "outputs": [
    {
     "data": {
      "text/html": [
       "<div>\n",
       "<style scoped>\n",
       "    .dataframe tbody tr th:only-of-type {\n",
       "        vertical-align: middle;\n",
       "    }\n",
       "\n",
       "    .dataframe tbody tr th {\n",
       "        vertical-align: top;\n",
       "    }\n",
       "\n",
       "    .dataframe thead th {\n",
       "        text-align: right;\n",
       "    }\n",
       "</style>\n",
       "<table border=\"1\" class=\"dataframe\">\n",
       "  <thead>\n",
       "    <tr style=\"text-align: right;\">\n",
       "      <th></th>\n",
       "      <th>audio_path</th>\n",
       "      <th>ground_truth</th>\n",
       "      <th>transcription</th>\n",
       "      <th>inference_time</th>\n",
       "    </tr>\n",
       "  </thead>\n",
       "  <tbody>\n",
       "    <tr>\n",
       "      <th>0</th>\n",
       "      <td>2024_07_09 10_31_30 NtuyGQ.wav</td>\n",
       "      <td>I would like to order a Patty Melt without the...</td>\n",
       "      <td>i would like to order a patty melt without the...</td>\n",
       "      <td>0.582718</td>\n",
       "    </tr>\n",
       "    <tr>\n",
       "      <th>1</th>\n",
       "      <td>2024_07_09 21_11_19 3yCioQ.wav</td>\n",
       "      <td>May I get a small California salad with arugul...</td>\n",
       "      <td>may i get a small california salad with arugul...</td>\n",
       "      <td>0.065769</td>\n",
       "    </tr>\n",
       "    <tr>\n",
       "      <th>2</th>\n",
       "      <td>2024_07_12 03_34_50 Ap-fWA.wav</td>\n",
       "      <td>\"May I order the House Special Beef, and could...</td>\n",
       "      <td>may i order a house special beef and could you...</td>\n",
       "      <td>0.062657</td>\n",
       "    </tr>\n",
       "    <tr>\n",
       "      <th>3</th>\n",
       "      <td>2024_07_24 12_22_36 fNFdZw.wav</td>\n",
       "      <td>Can I have a Buffalo Chicken Sandwich with a s...</td>\n",
       "      <td>can i have the buffalo chicken sandwich with a...</td>\n",
       "      <td>0.062813</td>\n",
       "    </tr>\n",
       "    <tr>\n",
       "      <th>4</th>\n",
       "      <td>2024_07_10 09_55_57 x5sltA.wav</td>\n",
       "      <td>\"I would like to order a Hawaiian Pizza with P...</td>\n",
       "      <td>i would like to order a hawaiian pizza with pa...</td>\n",
       "      <td>0.056818</td>\n",
       "    </tr>\n",
       "  </tbody>\n",
       "</table>\n",
       "</div>"
      ],
      "text/plain": [
       "                       audio_path  \\\n",
       "0  2024_07_09 10_31_30 NtuyGQ.wav   \n",
       "1  2024_07_09 21_11_19 3yCioQ.wav   \n",
       "2  2024_07_12 03_34_50 Ap-fWA.wav   \n",
       "3  2024_07_24 12_22_36 fNFdZw.wav   \n",
       "4  2024_07_10 09_55_57 x5sltA.wav   \n",
       "\n",
       "                                        ground_truth  \\\n",
       "0  I would like to order a Patty Melt without the...   \n",
       "1  May I get a small California salad with arugul...   \n",
       "2  \"May I order the House Special Beef, and could...   \n",
       "3  Can I have a Buffalo Chicken Sandwich with a s...   \n",
       "4  \"I would like to order a Hawaiian Pizza with P...   \n",
       "\n",
       "                                       transcription  inference_time  \n",
       "0  i would like to order a patty melt without the...        0.582718  \n",
       "1  may i get a small california salad with arugul...        0.065769  \n",
       "2  may i order a house special beef and could you...        0.062657  \n",
       "3  can i have the buffalo chicken sandwich with a...        0.062813  \n",
       "4  i would like to order a hawaiian pizza with pa...        0.056818  "
      ]
     },
     "execution_count": 25,
     "metadata": {},
     "output_type": "execute_result"
    }
   ],
   "source": [
    "df.head()"
   ]
  },
  {
   "cell_type": "code",
   "execution_count": 26,
   "metadata": {},
   "outputs": [],
   "source": [
    "df['Semantic_Analysis'] = 0.0"
   ]
  },
  {
   "cell_type": "code",
   "execution_count": 27,
   "metadata": {},
   "outputs": [],
   "source": [
    "for index, row in df.iterrows():\n",
    "    ground_truth = row[\"ground_truth\"]\n",
    "    after_finetuning_transcription = row[\"transcription\"]\n",
    "    \n",
    "    \n",
    "    ground_truth = ground_truth.strip().lower().strip(string.punctuation)\n",
    "    after_finetuning_transcription.strip().lower().strip(string.punctuation)\n",
    "    \n",
    "    ground_truth = re.sub(r'[^\\w\\s]', '', ground_truth)\n",
    "    after_finetuning_transcription = re.sub(r'[^\\w\\s]', '', after_finetuning_transcription)\n",
    "    \n",
    "\n",
    "    sentences_1 = [ground_truth]\n",
    "    sentences_2 = [after_finetuning_transcription]\n",
    "    \n",
    "    embeddings1 = model.encode(sentences_1)\n",
    "    embeddings2 = model.encode(sentences_2)\n",
    "    \n",
    "    # Calculate cosine similarities\n",
    "    similarities = []\n",
    "    for emb1 in embeddings1:\n",
    "        similarities.append([1 - cosine(emb1, emb2) for emb2 in embeddings2])\n",
    "    \n",
    "    # Assign the similarity scores to the new columns\n",
    "    df.at[index, 'Semantic_Analysis'] = similarities[0][0]\n"
   ]
  },
  {
   "cell_type": "code",
   "execution_count": 28,
   "metadata": {},
   "outputs": [],
   "source": [
    "df.to_csv(\"D:\\AIO\\STT_Model_Evaluation\\Transcription Results\\parakeet-ctc-1.1b_Results.csv\")"
   ]
  }
 ],
 "metadata": {
  "kernelspec": {
   "display_name": "Python 3",
   "language": "python",
   "name": "python3"
  },
  "language_info": {
   "codemirror_mode": {
    "name": "ipython",
    "version": 3
   },
   "file_extension": ".py",
   "mimetype": "text/x-python",
   "name": "python",
   "nbconvert_exporter": "python",
   "pygments_lexer": "ipython3",
   "version": "3.11.9"
  }
 },
 "nbformat": 4,
 "nbformat_minor": 2
}
